{
 "cells": [
  {
   "cell_type": "code",
   "execution_count": 14,
   "metadata": {},
   "outputs": [],
   "source": [
    "import numpy as np \n",
    "import matplotlib.pyplot as plt \n",
    "x=np.array([1058,1423,3554,4983,5806,6516,7153,11177,13522,16678,19665,22112,24953,27100,29631,31728,33366,33366,48206,\n",
    "          54406,56249,58182,59989,61682,62031,62442,62662,64084,64084,64287])\n",
    "y=np.array([52,76,125,133,168,204,249,350,414,479,549,618,699,780,871,974,1068,1068,1310,1457,1596,1696,1789,1921,2029,2144,\n",
    "       2144,2346,2346,2495])\n"
   ]
  },
  {
   "cell_type": "code",
   "execution_count": 15,
   "metadata": {},
   "outputs": [
    {
     "name": "stdout",
     "output_type": "stream",
     "text": [
      "Estimated coefficients:\n",
      "b_0 = 1588.3487628420116 \\ \n",
      "b_1 = -0.015315225236030561\n"
     ]
    },
    {
     "data": {
      "image/png": "[encoded data removed]",
      "text/plain": [
       "<Figure size 432x288 with 1 Axes>"
      ]
     },
     "metadata": {
      "needs_background": "light"
     },
     "output_type": "display_data"
    }
   ],
   "source": [
    "\n",
    "\n",
    "def estimate_coef(x, y): \n",
    "\t# number of observations/points \n",
    "\tn = np.size(x) \n",
    "\n",
    "\t# mean of x and y vector \n",
    "\tm_x, m_y = np.mean(x), np.mean(y) \n",
    "\n",
    "\t# calculating cross-deviation and deviation about x \n",
    "\tSS_xy = np.sum(y*x) - n*m_y*m_x \n",
    "\tSS_xx = np.sum(x*x) - n*m_x*m_x \n",
    "\n",
    "\t# calculating regression coefficients \n",
    "\tb_1 = SS_xy / SS_xx \n",
    "\tb_0 = m_y - b_1*m_x \n",
    "\n",
    "\treturn(b_0, b_1) \n",
    "\n",
    "def plot_regression_line(x, y, b): \n",
    "\t# plotting the actual points as scatter plot \n",
    "\tplt.scatter(x, y, color = \"m\", \n",
    "\t\t\tmarker = \"o\", s = 30) \n",
    "\n",
    "\t# predicted response vector \n",
    "\ty_pred = b[0] + b[1]*x \n",
    "\n",
    "\t# plotting the regression line \n",
    "\tplt.plot(x, y_pred, color = \"g\") \n",
    "\n",
    "\t# putting labels \n",
    "\tplt.xlabel('x') \n",
    "\tplt.ylabel('y') \n",
    "\n",
    "\t# function to show plot \n",
    "\tplt.show() \n",
    "\n",
    "def main(): \n",
    "\t# observations \n",
    "#\tx = np.array([0, 1, 2, 3, 4, 5, 6, 7, 8, 9]) \n",
    "#\ty = np.array([1, 3, 2, 5, 7, 8, 8, 9, 10, 12]) \n",
    "\n",
    "\t# estimating coefficients \n",
    "\tb = estimate_coef(x, y) \n",
    "\tprint(\"Estimated coefficients:\\nb_0 = {} \\ \\nb_1 = {}\".format(b[0], b[1])) \n",
    "\n",
    "\t# plotting regression line \n",
    "\tplot_regression_line(x, y, b) \n",
    "\n",
    "if __name__ == \"__main__\": \n",
    "\tmain() \n",
    "\n",
    "\n",
    "\n"
   ]
  },
  {
   "cell_type": "code",
   "execution_count": null,
   "metadata": {},
   "outputs": [],
   "source": []
  }
 ],
 "metadata": {
  "kernelspec": {
   "display_name": "Python 3",
   "language": "python",
   "name": "python3"
  },
  "language_info": {
   "codemirror_mode": {
    "name": "ipython",
    "version": 3
   },
   "file_extension": ".py",
   "mimetype": "text/x-python",
   "name": "python",
   "nbconvert_exporter": "python",
   "pygments_lexer": "ipython3",
   "version": "3.7.4"
  }
 },
 "nbformat": 4,
 "nbformat_minor": 2
}
